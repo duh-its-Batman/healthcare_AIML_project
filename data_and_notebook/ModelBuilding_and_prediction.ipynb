{
 "cells": [
  {
   "cell_type": "markdown",
   "id": "182ffdc6",
   "metadata": {},
   "source": [
    "# Feature Engineering and Model Building"
   ]
  },
  {
   "cell_type": "code",
   "execution_count": 1,
   "id": "77976cfb",
   "metadata": {},
   "outputs": [],
   "source": [
    "# importing all the required libraries, all the libraries that will be used in this notebookabs\n",
    "\n",
    "import pandas as pd\n",
    "import numpy as np\n",
    "import matplotlib.pyplot as plt\n",
    "%matplotlib inline\n",
    "import seaborn as sns\n",
    "sns.set_theme(style='whitegrid', palette='tab10')\n",
    "import warnings \n",
    "warnings.filterwarnings(\"ignore\")\n",
    "\n",
    "from sklearn.preprocessing import MinMaxScaler, LabelEncoder, label_binarize\n",
    "from sklearn.model_selection import train_test_split, StratifiedKFold, cross_val_score, KFold\n",
    "from sklearn.neighbors import KNeighborsClassifier\n",
    "from sklearn.metrics import classification_report, confusion_matrix, accuracy_score, roc_auc_score, precision_recall_curve, recall_score\n",
    "from sklearn.multiclass import OneVsRestClassifier\n",
    "from imblearn.over_sampling import SMOTE\n",
    "from sklearn.linear_model import LogisticRegression\n",
    "from sklearn.naive_bayes import GaussianNB"
   ]
  },
  {
   "cell_type": "code",
   "execution_count": 2,
   "id": "e094f955",
   "metadata": {},
   "outputs": [
    {
     "name": "stdout",
     "output_type": "stream",
     "text": [
      "Shape of 'Normal.csv' dataframe: (100, 7)\n",
      "Shape of 'Type_H.csv' dataframe: (60, 7)\n",
      "Shape of 'Type_S.csv' dataframe: (150, 7)\n",
      "\n",
      "shape of the final dataframe after merging the above 3 dataframes: (310, 7)\n"
     ]
    }
   ],
   "source": [
    "# importing the available data files, reading the dimensions and then merging into 1 main dataframe for our use.\n",
    "\n",
    "csv_files_list = [\"Normal.csv\", \"Type_H.csv\", \"Type_S.csv\"]  # list of the .csv files we have\n",
    "df_list = []\n",
    "\n",
    "for file in csv_files_list:   # reading the shape of each file\n",
    "    df = pd.read_csv(\"D:/art_intel/03_supervised_learning/Project/healthcare_project_data/{}\".format(file)) \n",
    "    print(\"Shape of '{0}' dataframe: {1}\".format(file, df.shape)) \n",
    "    df_list.append(df)\n",
    "        \n",
    "main_df = pd.concat(df_list)    # merging all the dataframes into one\n",
    "print(\"\\nshape of the final dataframe after merging the above {0} dataframes: {1}\".format(len(df_list), main_df.shape))"
   ]
  },
  {
   "cell_type": "markdown",
   "id": "a56178bf",
   "metadata": {},
   "source": [
    "### Data Preprocessing"
   ]
  },
  {
   "cell_type": "code",
   "execution_count": 3,
   "id": "2ef26c52",
   "metadata": {},
   "outputs": [
    {
     "data": {
      "text/plain": [
       "Type_S    150\n",
       "Normal    100\n",
       "Type_H     60\n",
       "Name: Class, dtype: int64"
      ]
     },
     "execution_count": 3,
     "metadata": {},
     "output_type": "execute_result"
    }
   ],
   "source": [
    "# Fixing the labelling of the Class variable\n",
    "main_df['Class'] = main_df['Class'].replace(\"Nrmal\", \"Normal\").replace(\"type_h\", \"Type_H\").replace(\"tp_s\", \"Type_S\")\n",
    "main_df['Class'].value_counts()"
   ]
  },
  {
   "cell_type": "code",
   "execution_count": 4,
   "id": "9e8a0aa9",
   "metadata": {},
   "outputs": [
    {
     "data": {
      "text/plain": [
       "1"
      ]
     },
     "execution_count": 4,
     "metadata": {},
     "output_type": "execute_result"
    }
   ],
   "source": [
    "# checking how many rows will be affected if we delete the outlier\n",
    "len(main_df[main_df['S_Degree']>400])"
   ]
  },
  {
   "cell_type": "code",
   "execution_count": 5,
   "id": "ab9206f9",
   "metadata": {},
   "outputs": [
    {
     "data": {
      "text/plain": [
       "(309, 7)"
      ]
     },
     "execution_count": 5,
     "metadata": {},
     "output_type": "execute_result"
    }
   ],
   "source": [
    "# only 1 record where S_Degree value is >400, so removing the outlier\n",
    "main_df = main_df[main_df['S_Degree']<400]\n",
    "main_df.shape"
   ]
  },
  {
   "cell_type": "code",
   "execution_count": 6,
   "id": "ea3cc7ee",
   "metadata": {},
   "outputs": [],
   "source": [
    "# Separating predictors from target variable\n",
    "x_vars = main_df.iloc[:, :-1]   # predictor variables\n",
    "y_var = main_df['Class']   # target variable"
   ]
  },
  {
   "cell_type": "code",
   "execution_count": 7,
   "id": "d47db141",
   "metadata": {},
   "outputs": [
    {
     "name": "stdout",
     "output_type": "stream",
     "text": [
      "Predictor variables after MinMax scaling:\n",
      "\n"
     ]
    },
    {
     "data": {
      "text/html": [
       "<div>\n",
       "<style scoped>\n",
       "    .dataframe tbody tr th:only-of-type {\n",
       "        vertical-align: middle;\n",
       "    }\n",
       "\n",
       "    .dataframe tbody tr th {\n",
       "        vertical-align: top;\n",
       "    }\n",
       "\n",
       "    .dataframe thead th {\n",
       "        text-align: right;\n",
       "    }\n",
       "</style>\n",
       "<table border=\"1\" class=\"dataframe\">\n",
       "  <thead>\n",
       "    <tr style=\"text-align: right;\">\n",
       "      <th></th>\n",
       "      <th>P_incidence</th>\n",
       "      <th>P_tilt</th>\n",
       "      <th>L_angle</th>\n",
       "      <th>S_slope</th>\n",
       "      <th>P_radius</th>\n",
       "      <th>S_Degree</th>\n",
       "    </tr>\n",
       "  </thead>\n",
       "  <tbody>\n",
       "    <tr>\n",
       "      <th>0</th>\n",
       "      <td>0.134324</td>\n",
       "      <td>0.420085</td>\n",
       "      <td>0.188942</td>\n",
       "      <td>0.123236</td>\n",
       "      <td>0.618897</td>\n",
       "      <td>0.119170</td>\n",
       "    </tr>\n",
       "    <tr>\n",
       "      <th>1</th>\n",
       "      <td>0.312760</td>\n",
       "      <td>0.455882</td>\n",
       "      <td>0.336501</td>\n",
       "      <td>0.340511</td>\n",
       "      <td>0.599688</td>\n",
       "      <td>0.081720</td>\n",
       "    </tr>\n",
       "    <tr>\n",
       "      <th>2</th>\n",
       "      <td>0.197991</td>\n",
       "      <td>0.276858</td>\n",
       "      <td>0.294446</td>\n",
       "      <td>0.332440</td>\n",
       "      <td>0.635973</td>\n",
       "      <td>0.100445</td>\n",
       "    </tr>\n",
       "    <tr>\n",
       "      <th>3</th>\n",
       "      <td>0.240998</td>\n",
       "      <td>0.428799</td>\n",
       "      <td>0.304271</td>\n",
       "      <td>0.263838</td>\n",
       "      <td>0.633388</td>\n",
       "      <td>0.063495</td>\n",
       "    </tr>\n",
       "    <tr>\n",
       "      <th>4</th>\n",
       "      <td>0.212550</td>\n",
       "      <td>0.307480</td>\n",
       "      <td>0.255748</td>\n",
       "      <td>0.326784</td>\n",
       "      <td>0.646271</td>\n",
       "      <td>0.047989</td>\n",
       "    </tr>\n",
       "    <tr>\n",
       "      <th>...</th>\n",
       "      <td>...</td>\n",
       "      <td>...</td>\n",
       "      <td>...</td>\n",
       "      <td>...</td>\n",
       "      <td>...</td>\n",
       "      <td>...</td>\n",
       "    </tr>\n",
       "    <tr>\n",
       "      <th>304</th>\n",
       "      <td>0.586582</td>\n",
       "      <td>0.723338</td>\n",
       "      <td>0.636299</td>\n",
       "      <td>0.494544</td>\n",
       "      <td>0.596967</td>\n",
       "      <td>0.696758</td>\n",
       "    </tr>\n",
       "    <tr>\n",
       "      <th>305</th>\n",
       "      <td>0.753639</td>\n",
       "      <td>0.948527</td>\n",
       "      <td>0.402712</td>\n",
       "      <td>0.536171</td>\n",
       "      <td>0.286071</td>\n",
       "      <td>0.552783</td>\n",
       "    </tr>\n",
       "    <tr>\n",
       "      <th>306</th>\n",
       "      <td>0.521179</td>\n",
       "      <td>0.453297</td>\n",
       "      <td>0.555135</td>\n",
       "      <td>0.631768</td>\n",
       "      <td>0.627209</td>\n",
       "      <td>0.528411</td>\n",
       "    </tr>\n",
       "    <tr>\n",
       "      <th>307</th>\n",
       "      <td>0.668841</td>\n",
       "      <td>0.480838</td>\n",
       "      <td>0.714343</td>\n",
       "      <td>0.813327</td>\n",
       "      <td>0.546974</td>\n",
       "      <td>0.549326</td>\n",
       "    </tr>\n",
       "    <tr>\n",
       "      <th>308</th>\n",
       "      <td>0.240356</td>\n",
       "      <td>0.410318</td>\n",
       "      <td>0.199827</td>\n",
       "      <td>0.278547</td>\n",
       "      <td>0.266697</td>\n",
       "      <td>0.246552</td>\n",
       "    </tr>\n",
       "  </tbody>\n",
       "</table>\n",
       "<p>309 rows × 6 columns</p>\n",
       "</div>"
      ],
      "text/plain": [
       "     P_incidence    P_tilt   L_angle   S_slope  P_radius  S_Degree\n",
       "0       0.134324  0.420085  0.188942  0.123236  0.618897  0.119170\n",
       "1       0.312760  0.455882  0.336501  0.340511  0.599688  0.081720\n",
       "2       0.197991  0.276858  0.294446  0.332440  0.635973  0.100445\n",
       "3       0.240998  0.428799  0.304271  0.263838  0.633388  0.063495\n",
       "4       0.212550  0.307480  0.255748  0.326784  0.646271  0.047989\n",
       "..           ...       ...       ...       ...       ...       ...\n",
       "304     0.586582  0.723338  0.636299  0.494544  0.596967  0.696758\n",
       "305     0.753639  0.948527  0.402712  0.536171  0.286071  0.552783\n",
       "306     0.521179  0.453297  0.555135  0.631768  0.627209  0.528411\n",
       "307     0.668841  0.480838  0.714343  0.813327  0.546974  0.549326\n",
       "308     0.240356  0.410318  0.199827  0.278547  0.266697  0.246552\n",
       "\n",
       "[309 rows x 6 columns]"
      ]
     },
     "execution_count": 7,
     "metadata": {},
     "output_type": "execute_result"
    }
   ],
   "source": [
    "# Scaling the inputs, because we are using KNN-classifier which is distance based \n",
    "# MinMax scaler\n",
    "scaler = MinMaxScaler()\n",
    "scaled_x = scaler.fit_transform(x_vars)\n",
    "scaled_x = pd.DataFrame(scaled_x, columns=main_df.iloc[:,:-1].columns)\n",
    "print(\"Predictor variables after MinMax scaling:\\n\")\n",
    "scaled_x"
   ]
  },
  {
   "cell_type": "code",
   "execution_count": 8,
   "id": "e5797e86",
   "metadata": {},
   "outputs": [],
   "source": [
    "# converting the classes of target variable to numeric values\n",
    "y_labl = LabelEncoder().fit_transform(y_var)"
   ]
  },
  {
   "cell_type": "code",
   "execution_count": 9,
   "id": "83e04867",
   "metadata": {},
   "outputs": [
    {
     "name": "stdout",
     "output_type": "stream",
     "text": [
      "Value count of the target variable after label encoding: {0: 100, 1: 60, 2: 149}\n"
     ]
    }
   ],
   "source": [
    "# finding out the value count of the y_labl nparray\n",
    "val_dict = {}\n",
    "for i in np.unique(y_labl):\n",
    "    val_dict[i] = 0\n",
    "    clist = []\n",
    "    for x in y_labl:\n",
    "        if x == i:\n",
    "            clist.append(x)\n",
    "    val_dict[i] = len(clist)\n",
    "print(\"Value count of the target variable after label encoding:\",val_dict)"
   ]
  },
  {
   "cell_type": "markdown",
   "id": "b079d37a",
   "metadata": {},
   "source": [
    "- The target variable classes are slightly imbalanced"
   ]
  },
  {
   "cell_type": "code",
   "execution_count": 10,
   "id": "c9007259",
   "metadata": {},
   "outputs": [],
   "source": [
    "# splitting the data into train and test\n",
    "X_train, X_test, y_train, y_test = train_test_split(scaled_x, y_labl, test_size=0.25, random_state=24)"
   ]
  },
  {
   "cell_type": "markdown",
   "id": "89f912ea",
   "metadata": {},
   "source": [
    "### 5. Model training, testing and tuning"
   ]
  },
  {
   "cell_type": "code",
   "execution_count": 28,
   "id": "de5236b6",
   "metadata": {},
   "outputs": [
    {
     "name": "stdout",
     "output_type": "stream",
     "text": [
      "Training accuracy score: 86.5801%\n",
      "Test accuracy score: 87.1795%\n",
      "\n"
     ]
    },
    {
     "data": {
      "image/png": "[encoded data removed]",
      "text/plain": [
       "<Figure size 1000x700 with 2 Axes>"
      ]
     },
     "metadata": {},
     "output_type": "display_data"
    },
    {
     "name": "stdout",
     "output_type": "stream",
     "text": [
      "\n",
      "\n",
      "\n",
      "Classification Report: \n",
      "              precision    recall  f1-score   support\n",
      "\n",
      "           0       0.81      0.77      0.79        22\n",
      "           1       0.83      0.75      0.79        20\n",
      "           2       0.92      1.00      0.96        36\n",
      "\n",
      "    accuracy                           0.87        78\n",
      "   macro avg       0.86      0.84      0.85        78\n",
      "weighted avg       0.87      0.87      0.87        78\n",
      "\n",
      "\n",
      "\n"
     ]
    }
   ],
   "source": [
    "#================ base model ====================#\n",
    "# fitting the knn algorithm, checking the score of train and test, and generating the classification matrix and report\n",
    "knn = KNeighborsClassifier()\n",
    "knn_model = knn.fit(X_train, y_train)\n",
    "train_pred = knn_model.predict(X_train)\n",
    "y_pred = knn_model.predict(X_test)   # predicting the labels \n",
    "\n",
    "# training accuracy\n",
    "train_result = accuracy_score(train_pred, y_train)    \n",
    "print(\"Training accuracy score: {:.4f}%\".format(train_result*100))\n",
    "# test accuracy\n",
    "test_result = accuracy_score(y_test, y_pred)          \n",
    "print(\"Test accuracy score: {:.4f}%\\n\".format(test_result*100))\n",
    "\n",
    "# confusion matrix\n",
    "c_matrix = confusion_matrix(y_test, y_pred)        \n",
    "cmatrix_df = pd.DataFrame(c_matrix, index = [0,1,2], columns = [0,1,2])\n",
    "# Plotting the confusion matrix\n",
    "plt.figure(figsize=(10,7))\n",
    "sns.heatmap(cmatrix_df, annot=True)\n",
    "plt.title('\\nConfusion Matrix', fontsize=15)\n",
    "plt.ylabel('Actual Values')\n",
    "plt.xlabel('Predicted Values')\n",
    "plt.show()\n",
    "\n",
    "print(\"\\n\\n\")\n",
    "cr_result = classification_report(y_test, y_pred)\n",
    "print(\"Classification Report: \\n{}\\n\\n\".format(cr_result))\n"
   ]
  },
  {
   "cell_type": "code",
   "execution_count": 29,
   "id": "21ce0b97",
   "metadata": {},
   "outputs": [
    {
     "data": {
      "text/plain": [
       "{'algorithm': 'auto',\n",
       " 'leaf_size': 30,\n",
       " 'metric': 'minkowski',\n",
       " 'metric_params': None,\n",
       " 'n_jobs': None,\n",
       " 'n_neighbors': 5,\n",
       " 'p': 2,\n",
       " 'weights': 'uniform'}"
      ]
     },
     "execution_count": 29,
     "metadata": {},
     "output_type": "execute_result"
    }
   ],
   "source": [
    "knn_model.get_params() # default hyper-parameters used by the algorithm "
   ]
  },
  {
   "cell_type": "markdown",
   "id": "506f5d66",
   "metadata": {},
   "source": [
    "##### Points about the above measures -\n",
    "1. Train and test accuracy scores have a small difference between their scores, so low model overfitting is there.\n",
    "2. Interpreting the confusion matrix for multiclass classifier:\n",
    "     - Diagonal axis represents the **True Positive** values of the classes.\n",
    "         - 0 = 17\n",
    "         - 1 = 15\n",
    "         - 2 = 36\n",
    "     - If the actual value is 0 and model predicted some other class, that is the **False Negative** value of the class.\n",
    "         - 0 = 5 (3+2)\n",
    "         - 1 = 5 (4+1)\n",
    "         - 2 = 0\n",
    "     - On the other hand, **False Positive** value of the class are the exact opposite of false negatives.\n",
    "         - 0 = 4 (4+0)\n",
    "         - 1 = 3 (3+0)\n",
    "         - 2 = 3 (2+1)\n",
    "     - The **True Negative** values of a class will be the sum of values of all other rows and columns\n",
    "         - 0 = 42 (5+1+0+36)\n",
    "         - 1 = 55 (17+2+0+36)\n",
    "         - 2 = 39 (17+3+4+15)\n",
    "         \n",
    "3. Since we are predicting the type of condition a patient belongs to, it will be better to reduce **False Negatives** as much as possible. This is because, if the model miss-classifies class-1 (Type_H) or class-2 (Type_S) with class-0 (Normal), the patient with abnormal condition will be set to Normal case and it will be a bigger error from the model than mis-classifying a Normal case with Type_H or Type_S condition.\n",
    "4. For our use case, the **recall** score needs to be reduced to as low as possibe (zero) without the data getting overfitted."
   ]
  },
  {
   "cell_type": "code",
   "execution_count": 34,
   "id": "1c21aea8",
   "metadata": {
    "scrolled": false
   },
   "outputs": [
    {
     "data": {
      "image/png": "[encoded data removed]",
      "text/plain": [
       "<Figure size 1000x700 with 1 Axes>"
      ]
     },
     "metadata": {},
     "output_type": "display_data"
    }
   ],
   "source": [
    "# finding the best K-value for the model\n",
    "scores = []\n",
    "for k in range(1,30):\n",
    "    knn = KNeighborsClassifier(n_neighbors = k)\n",
    "    model = knn.fit(X_train, y_train)\n",
    "    mscore = model.score(X_test, y_test) \n",
    "    scores.append(mscore)\n",
    "\n",
    "plt.figure(figsize=(10,7))\n",
    "plt.plot(range(1,30), scores)\n",
    "plt.xlabel(\"K neighbors\")\n",
    "plt.ylabel(\"Accuracy Score\")\n",
    "plt.title(\"Best value for K\", fontsize = 15)\n",
    "plt.show()"
   ]
  },
  {
   "cell_type": "code",
   "execution_count": 39,
   "id": "a92c10f6",
   "metadata": {},
   "outputs": [
    {
     "name": "stdout",
     "output_type": "stream",
     "text": [
      "Training accuracy score: 86.58%\n",
      "Test accuracy score: 84.62%\n",
      "\n"
     ]
    },
    {
     "data": {
      "image/png": "[encoded data removed]",
      "text/plain": [
       "<Figure size 1000x700 with 2 Axes>"
      ]
     },
     "metadata": {},
     "output_type": "display_data"
    },
    {
     "name": "stdout",
     "output_type": "stream",
     "text": [
      "\n",
      "\n",
      "\n",
      "Classification Report: \n",
      "              precision    recall  f1-score   support\n",
      "\n",
      "           0       0.67      0.91      0.77        22\n",
      "           1       1.00      0.60      0.75        20\n",
      "           2       0.94      0.94      0.94        36\n",
      "\n",
      "    accuracy                           0.85        78\n",
      "   macro avg       0.87      0.82      0.82        78\n",
      "weighted avg       0.88      0.85      0.85        78\n",
      "\n",
      "\n",
      "\n"
     ]
    }
   ],
   "source": [
    "#=============== Model after finding out the best k value ======================#\n",
    "# fitting the knn algorithm, checking the score of train and test, and generating the classification matrix and report\n",
    "# setting the n_neighbor value = 10, as found out from the above graph\n",
    "knn = KNeighborsClassifier(n_neighbors = 5)\n",
    "knn_model = knn.fit(X_train, y_train)\n",
    "train_pred = knn_model.predict(X_train)\n",
    "y_pred = model.predict(X_test)   # predicting the labels \n",
    "\n",
    "# training accuracy\n",
    "train_result = accuracy_score(train_pred, y_train)    \n",
    "print(\"Training accuracy score: {:.2f}%\".format(train_result*100))\n",
    "# test accuracy\n",
    "test_result = accuracy_score(y_test, y_pred)          \n",
    "print(\"Test accuracy score: {:.2f}%\\n\".format(test_result*100))\n",
    "\n",
    "# confusion matrix\n",
    "c_matrix = confusion_matrix(y_test, y_pred)        \n",
    "cmatrix_df = pd.DataFrame(c_matrix, index = [0,1,2], columns = [0,1,2])\n",
    "# rPlotting the confusion matrix\n",
    "plt.figure(figsize=(10,7))\n",
    "sns.heatmap(cmatrix_df, annot=True)\n",
    "plt.title('\\nConfusion Matrix', fontsize=15)\n",
    "plt.ylabel('Actual Values')\n",
    "plt.xlabel('Predicted Values')\n",
    "plt.show()\n",
    "\n",
    "print(\"\\n\\n\")\n",
    "cr_result = classification_report(y_test, y_pred)\n",
    "print(\"Classification Report: \\n{}\\n\\n\".format(cr_result))\n"
   ]
  },
  {
   "cell_type": "code",
   "execution_count": 40,
   "id": "711da350",
   "metadata": {},
   "outputs": [
    {
     "name": "stdout",
     "output_type": "stream",
     "text": [
      "Accuracy Score: 76.22% \n",
      "Precision Score: 78.37% \n",
      "Recall Score: 76.22%\n"
     ]
    }
   ],
   "source": [
    "# using the Statrified K-fold Cross-validation \n",
    "# since we have imbalanced target classes\n",
    "n_folds = 10  # 10-fold CV\n",
    "\n",
    "def score(model, xdata, y_data):\n",
    "    skf = StratifiedKFold(n_folds, shuffle = True, random_state = 24).get_n_splits(xdata)\n",
    "    accuracy = cross_val_score(model, xdata, y_data, scoring = \"accuracy\", cv = skf)\n",
    "    precision = accuracy = cross_val_score(model, xdata, y_data, scoring = \"precision_macro\", cv = skf)\n",
    "    recall = accuracy = cross_val_score(model, xdata, y_data, scoring = \"recall_macro\", cv = skf)\n",
    "    return print(\"Accuracy Score: {:.2f}% \\nPrecision Score: {:.2f}% \\nRecall Score: {:.2f}%\".format(accuracy.mean()*100, precision.mean()*100, recall.mean()*100))\n",
    "\n",
    "# calling the above defined function\n",
    "cv_score = score(knn, scaled_x, y_labl)\n",
    "cv_score"
   ]
  },
  {
   "cell_type": "code",
   "execution_count": null,
   "id": "cca47d32",
   "metadata": {
    "scrolled": false
   },
   "outputs": [],
   "source": [
    "# trying to find out the best threshold for the recall\n",
    "# need to set the threshold value <0.5, in order to bring its value up\n",
    "# using the precision_recall_curve to find the threshold value\n",
    "\n",
    "n_classes = len(set(y_labl))\n",
    "y_lbin = label_binarize(y_labl, classes=list(range(n_classes)))\n",
    "X_train, X_test, y_train, y_test = train_test_split(scaled_x, y_lbin, random_state = 24)\n",
    "\n",
    "knn_clf = OneVsRestClassifier(KNeighborsClassifier(n_neighbors = 10))\n",
    "proto_model = knn_clf.fit(X_train, y_train)\n",
    "y_score = knn_clf.predict_proba(X_test)\n",
    "\n",
    "# plotting the precision vs recall curve\n",
    "precision = {}\n",
    "recall = {}\n",
    "thold_list = []\n",
    "plt.figure(figsize=(10,7))\n",
    "for i in range(n_classes):\n",
    "    precision[i], recall[i], thresholds = precision_recall_curve(y_test[:, i], y_score[:, i])\n",
    "    #thold_list.append(thresholds)\n",
    "    thold_list += [t for t in thresholds]\n",
    "    plt.plot(recall[i], precision[i], lw=2, label='Class {}'.format(i))\n",
    "    \n",
    "plt.xlabel(\"Recall\")\n",
    "plt.ylabel(\"Precision\")\n",
    "plt.legend(loc=\"best\")\n",
    "plt.title(\"Precision vs. Recall curve\", fontsize=15)\n",
    "plt.show()\n",
    "\n",
    "# creating a range of threshold values between 0-1, with a step rate of 0.001\n",
    "thold_range = np.arange(0, 1, 0.001)\n",
    "\n",
    "# making a function to filter out the threshold values giving max recall score\n",
    "def to_labels(pos_probs, threshold):   \n",
    "    return (pos_probs >= threshold).astype('int')\n",
    "\n",
    "# recall scores of the particular threshold range as defined\n",
    "scores = [recall_score(y_test, to_labels(y_score, t), average=\"weighted\") for t in thold_range] \n",
    "ix = np.argmax(scores)  # selecting the best score from the list\n",
    "print(\"\\n\\n*************************\\n\")\n",
    "print(\"Best Recall-Score = {:.3f} at Threshold = {:.3f}\".format(scores[ix], thold_range[ix]))"
   ]
  },
  {
   "cell_type": "code",
   "execution_count": 41,
   "id": "3a386a3d",
   "metadata": {},
   "outputs": [
    {
     "name": "stdout",
     "output_type": "stream",
     "text": [
      "Test accuracy score: 84.62%\n",
      "\n"
     ]
    }
   ],
   "source": [
    "final_knn = KNeighborsClassifier(n_neighbors = 5)\n",
    "final_knn_model = final_knn.fit(X_train, y_train)\n",
    "# train_pred = knn_model.predict(X_train)\n",
    "y_pred = model.predict(X_test)   # predicting the labels \n",
    "\n",
    "test_result = accuracy_score(y_test, y_pred)          \n",
    "print(\"Test accuracy score: {:.2f}%\\n\".format(test_result*100))\n"
   ]
  },
  {
   "cell_type": "markdown",
   "id": "bfbd9278",
   "metadata": {},
   "source": [
    "### 6. Conclusion\n",
    "1. About the final model:\n",
    "    - model gave a **92.3%** accuracy, with n_neighbors = 10, and using train_test_split\n",
    "        - after adjusting with the best n_neighbors parameter = **10**\n",
    "        - this model seemed to start overfitting the data a little, by this point\n",
    "        - with average recall being **90.3%**, this classifier was still predicting some Type_H False Negatives\n",
    "        - however this was predicting Type_S conditions perfectly\n",
    "    - used the above model with **Stratified K-fold CV**\n",
    "        - k = **10** splits\n",
    "        - got around **78%** recall score, same as accuracy score\n",
    "    - to improve the recall score, played around with the precision_recall_curve to fetch the threshold values\n",
    "        - got the best Recall-score = 1.000 \n",
    "        - for the threshold value = 0.000\n",
    "        - this might be overfitting the data as well\n",
    "        - for which it will be better to use the cross validation for this as well ahead in the modelling\n",
    "    - So, currently the best performing model = **cv_score, Stratified K-fold CV**\n",
    "        - because it is having a lower chance with respect to overfitting\n",
    "        - Even though we are getting a pretty good accuracy score and Recall score at n_neighbors = 10, using train_test_split\n",
    "        - more probe is required for this model to be used, and to be sure that it is not overfitting\n",
    "2. Going forward from here, much more improvements can be done. By tuning the model better, we can produce a good recall score.\n",
    "\n",
    "3. Will need to validate the currently acquired Recall-Score and Threshold value, by using the kfold CV. \n",
    "\n",
    "4. Need to find the optimal Threshold value for our model, to better the Recall-Score \n",
    "\n",
    "5. Also, a better clarity regarding the nature of variables would be much better. Since in this case we did not know the details about the condition, how are the independent variables associated with target variables to be precise (although EDA somewhat explained a basic relationship between them). The data should be having a more detailed description about how it got collected, what are the units of the variables, length of the data should be more as larger the size of the data better it will be for our algorithm to find the hidden patterns in the data. "
   ]
  },
  {
   "cell_type": "markdown",
   "id": "ca593b94",
   "metadata": {},
   "source": [
    "  "
   ]
  },
  {
   "cell_type": "markdown",
   "id": "a83fcb5d",
   "metadata": {},
   "source": [
    "----"
   ]
  },
  {
   "cell_type": "code",
   "execution_count": null,
   "id": "71578164",
   "metadata": {},
   "outputs": [],
   "source": []
  }
 ],
 "metadata": {
  "kernelspec": {
   "display_name": "Python 3 (ipykernel)",
   "language": "python",
   "name": "python3"
  },
  "language_info": {
   "codemirror_mode": {
    "name": "ipython",
    "version": 3
   },
   "file_extension": ".py",
   "mimetype": "text/x-python",
   "name": "python",
   "nbconvert_exporter": "python",
   "pygments_lexer": "ipython3",
   "version": "3.10.9"
  }
 },
 "nbformat": 4,
 "nbformat_minor": 5
}
